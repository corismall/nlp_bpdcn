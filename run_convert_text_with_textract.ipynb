{
 "metadata": {
  "language_info": {
   "codemirror_mode": {
    "name": "ipython",
    "version": 3
   },
   "file_extension": ".py",
   "mimetype": "text/x-python",
   "name": "python",
   "nbconvert_exporter": "python",
   "pygments_lexer": "ipython3",
   "version": "3.9.1"
  },
  "orig_nbformat": 2,
  "kernelspec": {
   "name": "python391jvsc74a57bd0aee8b7b246df8f9039afb4144a1f6fd8d2ca17a180786b69acc140d282b71a49",
   "display_name": "Python 3.9.1 64-bit"
  }
 },
 "nbformat": 4,
 "nbformat_minor": 2,
 "cells": [
  {
   "cell_type": "code",
   "execution_count": 1,
   "metadata": {},
   "outputs": [
    {
     "output_type": "stream",
     "name": "stdout",
     "text": [
      "make sure your aws role has the correct permissions to run textract, see https://docs.aws.amazon.com/textract/latest/dg/api-async-roles.html to configure\n"
     ]
    }
   ],
   "source": [
    "import convert_text_with_textract as pdftools"
   ]
  },
  {
   "cell_type": "code",
   "execution_count": 13,
   "metadata": {
    "tags": []
   },
   "outputs": [],
   "source": [
    "\n",
    "roleArn = 'arn:aws:iam::760515291717:role/TextractRole'\n",
    "bucket = 'bpdcnpdfbucket'\n",
    "document = 'agapidou_2014.pdf'\n",
    "\n",
    "analyzer=pdftools.DocumentProcessor(roleArn, bucket, document)\n",
    "analyzer.CreateTopicandQueue()\n",
    "analyzer.ProcessDocument(pdftools.ProcessType.ANALYSIS)\n",
    "analyzer.DeleteTopicandQueue()\n"
   ]
  }
 ]
}