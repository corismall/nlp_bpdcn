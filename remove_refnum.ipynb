{
 "cells": [
  {
   "cell_type": "code",
   "execution_count": null,
   "metadata": {},
   "outputs": [],
   "source": [
    "###if you want to go further down the rabbit hole of remvoing reference numbers from the beginning of the sentence, this is where to start \n",
    "\n",
    "\n",
    "for s in sentences:\n",
    "                        sentence_list = s.split(' ')\n",
    "                        first = sentence_list[0]\n",
    "                        \n",
    "                        try:\n",
    "                            int(first)\n",
    "                            if type(first) == 'int':\n",
    "                                sentence_list.remove(first)\n",
    "                                s = sentence_list.join('')\n",
    "                                sentences.append(s)\n",
    "                            \n",
    "                            print(sentences)\n",
    "                            print('')\n",
    "                            \n",
    "                        except ValueError:\n",
    "                            print(\"Not a float\")"
   ]
  }
 ],
 "metadata": {
  "kernelspec": {
   "display_name": "Python 3",
   "language": "python",
   "name": "python3"
  },
  "language_info": {
   "codemirror_mode": {
    "name": "ipython",
    "version": 3
   },
   "file_extension": ".py",
   "mimetype": "text/x-python",
   "name": "python",
   "nbconvert_exporter": "python",
   "pygments_lexer": "ipython3",
   "version": "3.9.1"
  }
 },
 "nbformat": 4,
 "nbformat_minor": 4
}
