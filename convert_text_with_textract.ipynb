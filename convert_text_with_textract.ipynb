{
 "metadata": {
  "language_info": {
   "codemirror_mode": {
    "name": "ipython",
    "version": 3
   },
   "file_extension": ".py",
   "mimetype": "text/x-python",
   "name": "python",
   "nbconvert_exporter": "python",
   "pygments_lexer": "ipython3",
   "version": "3.9.1"
  },
  "orig_nbformat": 2,
  "kernelspec": {
   "name": "python391jvsc74a57bd0aee8b7b246df8f9039afb4144a1f6fd8d2ca17a180786b69acc140d282b71a49",
   "display_name": "Python 3.9.1 64-bit"
  }
 },
 "nbformat": 4,
 "nbformat_minor": 2,
 "cells": [
  {
   "cell_type": "code",
   "execution_count": 15,
   "metadata": {},
   "outputs": [],
   "source": [
    "import convert_text_with_textract as pdftools"
   ]
  },
  {
   "cell_type": "code",
   "execution_count": null,
   "metadata": {},
   "outputs": [],
   "source": [
    "\n",
    "# make sure your aws role has the correct permissions to run textract, see https://docs.aws.amazon.com/textract/latest/dg/api-async-roles.html \n",
    "# to configue \n",
    "\n",
    "\n",
    "doc = 'agapidou_2014'\n",
    "\n",
    "#have to set up an aws account s3 bucket... (cloud object storage)\n",
    "#for s3object, you need to specify bucket, name and version:\n",
    "s3_obj =  {\"Bucket\": 'bpdcnpdfbucket', \"Name\": 'agapidou_2014.pdf'}  #creating dictionary obj\n",
    "\n",
    "detect = client.start_document_text_detection(\n",
    "    DocumentLocation={'S3Object': s3_obj},\n",
    "    NotificationChannel={\n",
    "        'SNSTopicArn': 'arn:aws:sns:us-west-1:760515291717:nlp_topic',\n",
    "        'RoleArn': 'arn:aws:iam::760515291717:role/TextractRole'\n",
    "    },\n",
    "    OutputConfig={\n",
    "        'S3Bucket': 'bpdcnpdfbucket',\n",
    "        'S3Prefix': f_name\n",
    "    })  #for detecting and analyzing text in multipage docs (asynchronous op), I would try both syncrhonous and asynchronous, maybe the synchronous works for pdfs with just a couple of pages?\n",
    "\n"
   ]
  },
  {
   "cell_type": "code",
   "execution_count": null,
   "metadata": {},
   "outputs": [],
   "source": [
    "pdftools.ProcessType(1)"
   ]
  }
 ]
}